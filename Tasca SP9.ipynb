{
 "cells": [
  {
   "cell_type": "code",
   "execution_count": 1,
   "id": "a0d9b41d",
   "metadata": {},
   "outputs": [
    {
     "name": "stdout",
     "output_type": "stream",
     "text": [
      "3\n"
     ]
    }
   ],
   "source": [
    "#  Exercicis d'anàlisi de sentiment i textos.\n",
    "#- Exercici 1: Agafa un text en anglès que vulguis, i calcula'n la freqüència de les paraules.\n",
    "\n",
    "#- Exercici 2: Treu les stopwords i realitza stemming al teu conjunt de dades (El stemming es un método para reducir todas las formas flexionadas de palabras a su «raíz» o «tallo» (stem, en inglés))\n",
    "\n",
    "#- Exercici 3: Realitza sentiment analysis al teu conjunt de dades.\n"
   ]
  },
  {
   "cell_type": "code",
   "execution_count": 2,
   "id": "5f089246",
   "metadata": {},
   "outputs": [
    {
     "name": "stdout",
     "output_type": "stream",
     "text": [
      "['One of the things I appreciate most about this software is the ease of use and the ability to quickly and efficiently engaged users.', 'Text Request gives us another quick, easy way to connect to our clients and gives them the ability to reach out to us any time of day.', 'Their customer service is amazing.Very impressed with the quality of the product, particularly for the price.']\n"
     ]
    }
   ],
   "source": [
    "import nltk\n",
    "\n",
    "text = \"One of the things I appreciate most about this software is the ease of use and the ability to quickly and efficiently engaged users. Text Request gives us another quick, easy way to connect to our clients and gives them the ability to reach out to us any time of day. Their customer service is amazing.Very impressed with the quality of the product, particularly for the price.\"\n",
    "\n",
    "##############################\n",
    "# DIVIDIR EL TEXTO EN FRASES #\n",
    "##############################\n",
    "from nltk.tokenize import sent_tokenize\n",
    "tokenized_text=sent_tokenize(text)\n",
    "print(tokenized_text)"
   ]
  },
  {
   "cell_type": "code",
   "execution_count": 3,
   "id": "bc362af5",
   "metadata": {},
   "outputs": [
    {
     "name": "stdout",
     "output_type": "stream",
     "text": [
      "['One', 'of', 'the', 'things', 'I', 'appreciate', 'most', 'about', 'this', 'software', 'is', 'the', 'ease', 'of', 'use', 'and', 'the', 'ability', 'to', 'quickly', 'and', 'efficiently', 'engaged', 'users', '.', 'Text', 'Request', 'gives', 'us', 'another', 'quick', ',', 'easy', 'way', 'to', 'connect', 'to', 'our', 'clients', 'and', 'gives', 'them', 'the', 'ability', 'to', 'reach', 'out', 'to', 'us', 'any', 'time', 'of', 'day', '.', 'Their', 'customer', 'service', 'is', 'amazing.Very', 'impressed', 'with', 'the', 'quality', 'of', 'the', 'product', ',', 'particularly', 'for', 'the', 'price', '.']\n"
     ]
    },
    {
     "data": {
      "text/plain": [
       "['One',\n",
       " 'of',\n",
       " 'the',\n",
       " 'things',\n",
       " 'I',\n",
       " 'appreciate',\n",
       " 'most',\n",
       " 'about',\n",
       " 'this',\n",
       " 'software',\n",
       " 'is',\n",
       " 'the',\n",
       " 'ease',\n",
       " 'of',\n",
       " 'use',\n",
       " 'and',\n",
       " 'the',\n",
       " 'ability',\n",
       " 'to',\n",
       " 'quickly',\n",
       " 'and',\n",
       " 'efficiently',\n",
       " 'engaged',\n",
       " 'users.',\n",
       " 'Text',\n",
       " 'Request',\n",
       " 'gives',\n",
       " 'us',\n",
       " 'another',\n",
       " 'quick,',\n",
       " 'easy',\n",
       " 'way',\n",
       " 'to',\n",
       " 'connect',\n",
       " 'to',\n",
       " 'our',\n",
       " 'clients',\n",
       " 'and',\n",
       " 'gives',\n",
       " 'them',\n",
       " 'the',\n",
       " 'ability',\n",
       " 'to',\n",
       " 'reach',\n",
       " 'out',\n",
       " 'to',\n",
       " 'us',\n",
       " 'any',\n",
       " 'time',\n",
       " 'of',\n",
       " 'day.',\n",
       " 'Their',\n",
       " 'customer',\n",
       " 'service',\n",
       " 'is',\n",
       " 'amazing.Very',\n",
       " 'impressed',\n",
       " 'with',\n",
       " 'the',\n",
       " 'quality',\n",
       " 'of',\n",
       " 'the',\n",
       " 'product,',\n",
       " 'particularly',\n",
       " 'for',\n",
       " 'the',\n",
       " 'price.']"
      ]
     },
     "execution_count": 3,
     "metadata": {},
     "output_type": "execute_result"
    }
   ],
   "source": [
    "################################\n",
    "# DIVIDIR EL TEXTO EN PALABRAS #\n",
    "################################\n",
    "from nltk.tokenize import word_tokenize\n",
    "tokenized_word=word_tokenize(text)\n",
    "print(tokenized_word)\n",
    "\n",
    "\n",
    "\n",
    "# - - > OTRA MANERA DE HACERLO: #\n",
    "text.split()"
   ]
  },
  {
   "cell_type": "code",
   "execution_count": 4,
   "id": "ede7fd64",
   "metadata": {},
   "outputs": [
    {
     "name": "stdout",
     "output_type": "stream",
     "text": [
      "<FreqDist with 50 samples and 72 outcomes>\n"
     ]
    }
   ],
   "source": [
    "###########################\n",
    "# FRECUENCIA DE PALABRAS #\n",
    "###########################\n",
    "from nltk.probability import FreqDist\n",
    "fdist = FreqDist(tokenized_word)\n",
    "print(fdist)"
   ]
  },
  {
   "cell_type": "code",
   "execution_count": 5,
   "id": "51f1f923",
   "metadata": {},
   "outputs": [
    {
     "data": {
      "text/plain": [
       "[('the', 7), ('to', 5), ('of', 4), ('and', 3), ('.', 3)]"
      ]
     },
     "execution_count": 5,
     "metadata": {},
     "output_type": "execute_result"
    }
   ],
   "source": [
    "######################\n",
    "# PALABRAS + USUALES #\n",
    "######################\n",
    "fdist.most_common(5)"
   ]
  },
  {
   "cell_type": "code",
   "execution_count": 6,
   "id": "2ac15bbf",
   "metadata": {},
   "outputs": [
    {
     "data": {
      "image/png": "[encoded data removed]",
      "text/plain": [
       "<Figure size 640x480 with 1 Axes>"
      ]
     },
     "metadata": {},
     "output_type": "display_data"
    }
   ],
   "source": [
    "#######################################\n",
    "# GRÁFICO DE DISTRIBUCIÓN DE PALABRAS #\n",
    "#######################################\n",
    "\n",
    "import matplotlib.pyplot as plt\n",
    "fdist.plot(30,cumulative=False)\n",
    "plt.show()"
   ]
  },
  {
   "cell_type": "code",
   "execution_count": 43,
   "id": "2f721778",
   "metadata": {},
   "outputs": [
    {
     "name": "stdout",
     "output_type": "stream",
     "text": [
      "Cadena\n",
      "text = \"One of the things I appreciate most about this software is the ease of use and the ability to quickly and efficiently engaged users. Text Request gives us another quick, easy way to connect to our clients and gives them the ability to reach out to us any time of day. Their customer service is amazing.Very impressed with the quality of the product, particularly for the price.\n",
      "\n",
      "Lista\n",
      "['One', 'of', 'the', 'things', 'I', 'appreciate', 'most', 'about', 'this', 'software', 'is', 'the', 'ease', 'of', 'use', 'and', 'the', 'ability', 'to', 'quickly', 'and', 'efficiently', 'engaged', 'users.', 'Text', 'Request', 'gives', 'us', 'another', 'quick,', 'easy', 'way', 'to', 'connect', 'to', 'our', 'clients', 'and', 'gives', 'them', 'the', 'ability', 'to', 'reach', 'out', 'to', 'us', 'any', 'time', 'of', 'day.', 'Their', 'customer', 'service', 'is', 'amazing.Very', 'impressed', 'with', 'the', 'quality', 'of', 'the', 'product,', 'particularly', 'for', 'the', 'price.']\n",
      "\n",
      "Frecuencias\n",
      "[1, 4, 7, 1, 1, 1, 1, 1, 1, 1, 2, 7, 1, 4, 1, 3, 7, 2, 5, 1, 3, 1, 1, 1, 1, 1, 2, 2, 1, 1, 1, 1, 5, 1, 5, 1, 1, 3, 2, 1, 7, 2, 5, 1, 1, 5, 2, 1, 1, 4, 1, 1, 1, 1, 2, 1, 1, 1, 7, 1, 4, 7, 1, 1, 1, 7, 1]\n",
      "\n",
      "Pares\n",
      "[('One', 1), ('of', 4), ('the', 7), ('things', 1), ('I', 1), ('appreciate', 1), ('most', 1), ('about', 1), ('this', 1), ('software', 1), ('is', 2), ('the', 7), ('ease', 1), ('of', 4), ('use', 1), ('and', 3), ('the', 7), ('ability', 2), ('to', 5), ('quickly', 1), ('and', 3), ('efficiently', 1), ('engaged', 1), ('users.', 1), ('Text', 1), ('Request', 1), ('gives', 2), ('us', 2), ('another', 1), ('quick,', 1), ('easy', 1), ('way', 1), ('to', 5), ('connect', 1), ('to', 5), ('our', 1), ('clients', 1), ('and', 3), ('gives', 2), ('them', 1), ('the', 7), ('ability', 2), ('to', 5), ('reach', 1), ('out', 1), ('to', 5), ('us', 2), ('any', 1), ('time', 1), ('of', 4), ('day.', 1), ('Their', 1), ('customer', 1), ('service', 1), ('is', 2), ('amazing.Very', 1), ('impressed', 1), ('with', 1), ('the', 7), ('quality', 1), ('of', 4), ('the', 7), ('product,', 1), ('particularly', 1), ('for', 1), ('the', 7), ('price.', 1)]\n"
     ]
    }
   ],
   "source": [
    "#####################################################\n",
    "# OTRA MANERA DE ANALIZAR LA FRECUENCIA DE PALABRAS #\n",
    "#####################################################\n",
    "\n",
    "text2 = 'text = \"One of the things I appreciate most about this software is the ease of use and the ability to quickly and efficiently engaged users. '\n",
    "\n",
    "# La siguiente linea solo es para provar el +=   ---> añade el texto indicado al anterior\n",
    "text2 += 'Text Request gives us another quick, easy way to connect to our clients and gives them the ability to reach out to us any time of day. Their customer service is amazing.Very impressed with the quality of the product, particularly for the price.'\n",
    "\n",
    "\n",
    "listaPalabras = text.split()\n",
    "\n",
    "frecuenciaPalab = []\n",
    "for w in listaPalabras:\n",
    "    frecuenciaPalab.append(listaPalabras.count(w))\n",
    "\n",
    "print(\"Cadena\\n\" + text2 +\"\\n\")\n",
    "print(\"Lista\\n\" + str(listaPalabras) + \"\\n\")\n",
    "print(\"Frecuencias\\n\" + str(frecuenciaPalab) + \"\\n\")\n",
    "print(\"Pares\\n\" + str(list(zip(listaPalabras, frecuenciaPalab))))"
   ]
  },
  {
   "cell_type": "code",
   "execution_count": 21,
   "id": "0c188323",
   "metadata": {},
   "outputs": [
    {
     "ename": "LookupError",
     "evalue": "\n**********************************************************************\n  Resource \u001b[93mstopwords\u001b[0m not found.\n  Please use the NLTK Downloader to obtain the resource:\n\n  \u001b[31m>>> import nltk\n  >>> nltk.download('stopwords')\n  \u001b[0m\n  For more information see: https://www.nltk.org/data.html\n\n  Attempted to load \u001b[93mcorpora/stopwords\u001b[0m\n\n  Searched in:\n    - 'D:\\\\Users\\\\Gestio/nltk_data'\n    - 'D:\\\\Users\\\\Gestio\\\\anaconda3\\\\nltk_data'\n    - 'D:\\\\Users\\\\Gestio\\\\anaconda3\\\\share\\\\nltk_data'\n    - 'D:\\\\Users\\\\Gestio\\\\anaconda3\\\\lib\\\\nltk_data'\n    - 'D:\\\\Users\\\\Gestio\\\\AppData\\\\Roaming\\\\nltk_data'\n    - 'C:\\\\nltk_data'\n    - 'D:\\\\nltk_data'\n    - 'E:\\\\nltk_data'\n**********************************************************************\n",
     "output_type": "error",
     "traceback": [
      "\u001b[1;31m---------------------------------------------------------------------------\u001b[0m",
      "\u001b[1;31mLookupError\u001b[0m                               Traceback (most recent call last)",
      "\u001b[1;32m~\\AppData\\Roaming\\Python\\Python39\\site-packages\\nltk\\corpus\\util.py\u001b[0m in \u001b[0;36m__load\u001b[1;34m(self)\u001b[0m\n\u001b[0;32m     83\u001b[0m                 \u001b[1;32mtry\u001b[0m\u001b[1;33m:\u001b[0m\u001b[1;33m\u001b[0m\u001b[1;33m\u001b[0m\u001b[0m\n\u001b[1;32m---> 84\u001b[1;33m                     \u001b[0mroot\u001b[0m \u001b[1;33m=\u001b[0m \u001b[0mnltk\u001b[0m\u001b[1;33m.\u001b[0m\u001b[0mdata\u001b[0m\u001b[1;33m.\u001b[0m\u001b[0mfind\u001b[0m\u001b[1;33m(\u001b[0m\u001b[1;34mf\"{self.subdir}/{zip_name}\"\u001b[0m\u001b[1;33m)\u001b[0m\u001b[1;33m\u001b[0m\u001b[1;33m\u001b[0m\u001b[0m\n\u001b[0m\u001b[0;32m     85\u001b[0m                 \u001b[1;32mexcept\u001b[0m \u001b[0mLookupError\u001b[0m\u001b[1;33m:\u001b[0m\u001b[1;33m\u001b[0m\u001b[1;33m\u001b[0m\u001b[0m\n",
      "\u001b[1;32m~\\AppData\\Roaming\\Python\\Python39\\site-packages\\nltk\\data.py\u001b[0m in \u001b[0;36mfind\u001b[1;34m(resource_name, paths)\u001b[0m\n\u001b[0;32m    582\u001b[0m     \u001b[0mresource_not_found\u001b[0m \u001b[1;33m=\u001b[0m \u001b[1;34mf\"\\n{sep}\\n{msg}\\n{sep}\\n\"\u001b[0m\u001b[1;33m\u001b[0m\u001b[1;33m\u001b[0m\u001b[0m\n\u001b[1;32m--> 583\u001b[1;33m     \u001b[1;32mraise\u001b[0m \u001b[0mLookupError\u001b[0m\u001b[1;33m(\u001b[0m\u001b[0mresource_not_found\u001b[0m\u001b[1;33m)\u001b[0m\u001b[1;33m\u001b[0m\u001b[1;33m\u001b[0m\u001b[0m\n\u001b[0m\u001b[0;32m    584\u001b[0m \u001b[1;33m\u001b[0m\u001b[0m\n",
      "\u001b[1;31mLookupError\u001b[0m: \n**********************************************************************\n  Resource \u001b[93mstopwords\u001b[0m not found.\n  Please use the NLTK Downloader to obtain the resource:\n\n  \u001b[31m>>> import nltk\n  >>> nltk.download('stopwords')\n  \u001b[0m\n  For more information see: https://www.nltk.org/data.html\n\n  Attempted to load \u001b[93mcorpora/stopwords.zip/stopwords/\u001b[0m\n\n  Searched in:\n    - 'D:\\\\Users\\\\Gestio/nltk_data'\n    - 'D:\\\\Users\\\\Gestio\\\\anaconda3\\\\nltk_data'\n    - 'D:\\\\Users\\\\Gestio\\\\anaconda3\\\\share\\\\nltk_data'\n    - 'D:\\\\Users\\\\Gestio\\\\anaconda3\\\\lib\\\\nltk_data'\n    - 'D:\\\\Users\\\\Gestio\\\\AppData\\\\Roaming\\\\nltk_data'\n    - 'C:\\\\nltk_data'\n    - 'D:\\\\nltk_data'\n    - 'E:\\\\nltk_data'\n**********************************************************************\n",
      "\nDuring handling of the above exception, another exception occurred:\n",
      "\u001b[1;31mLookupError\u001b[0m                               Traceback (most recent call last)",
      "\u001b[1;32m~\\AppData\\Local\\Temp\\ipykernel_4368\\2992350802.py\u001b[0m in \u001b[0;36m<module>\u001b[1;34m\u001b[0m\n\u001b[0;32m      1\u001b[0m \u001b[1;32mfrom\u001b[0m \u001b[0mnltk\u001b[0m\u001b[1;33m.\u001b[0m\u001b[0mcorpus\u001b[0m \u001b[1;32mimport\u001b[0m \u001b[0mstopwords\u001b[0m\u001b[1;33m\u001b[0m\u001b[1;33m\u001b[0m\u001b[0m\n\u001b[1;32m----> 2\u001b[1;33m \u001b[0mstop_words\u001b[0m\u001b[1;33m=\u001b[0m\u001b[0mset\u001b[0m\u001b[1;33m(\u001b[0m\u001b[0mstopwords\u001b[0m\u001b[1;33m.\u001b[0m\u001b[0mwords\u001b[0m\u001b[1;33m(\u001b[0m\u001b[1;34m\"english\"\u001b[0m\u001b[1;33m)\u001b[0m\u001b[1;33m)\u001b[0m\u001b[1;33m\u001b[0m\u001b[1;33m\u001b[0m\u001b[0m\n\u001b[0m\u001b[0;32m      3\u001b[0m \u001b[0mprint\u001b[0m\u001b[1;33m(\u001b[0m\u001b[0mstop_words\u001b[0m\u001b[1;33m)\u001b[0m\u001b[1;33m\u001b[0m\u001b[1;33m\u001b[0m\u001b[0m\n",
      "\u001b[1;32m~\\AppData\\Roaming\\Python\\Python39\\site-packages\\nltk\\corpus\\util.py\u001b[0m in \u001b[0;36m__getattr__\u001b[1;34m(self, attr)\u001b[0m\n\u001b[0;32m    119\u001b[0m             \u001b[1;32mraise\u001b[0m \u001b[0mAttributeError\u001b[0m\u001b[1;33m(\u001b[0m\u001b[1;34m\"LazyCorpusLoader object has no attribute '__bases__'\"\u001b[0m\u001b[1;33m)\u001b[0m\u001b[1;33m\u001b[0m\u001b[1;33m\u001b[0m\u001b[0m\n\u001b[0;32m    120\u001b[0m \u001b[1;33m\u001b[0m\u001b[0m\n\u001b[1;32m--> 121\u001b[1;33m         \u001b[0mself\u001b[0m\u001b[1;33m.\u001b[0m\u001b[0m__load\u001b[0m\u001b[1;33m(\u001b[0m\u001b[1;33m)\u001b[0m\u001b[1;33m\u001b[0m\u001b[1;33m\u001b[0m\u001b[0m\n\u001b[0m\u001b[0;32m    122\u001b[0m         \u001b[1;31m# This looks circular, but its not, since __load() changes our\u001b[0m\u001b[1;33m\u001b[0m\u001b[1;33m\u001b[0m\u001b[0m\n\u001b[0;32m    123\u001b[0m         \u001b[1;31m# __class__ to something new:\u001b[0m\u001b[1;33m\u001b[0m\u001b[1;33m\u001b[0m\u001b[0m\n",
      "\u001b[1;32m~\\AppData\\Roaming\\Python\\Python39\\site-packages\\nltk\\corpus\\util.py\u001b[0m in \u001b[0;36m__load\u001b[1;34m(self)\u001b[0m\n\u001b[0;32m     84\u001b[0m                     \u001b[0mroot\u001b[0m \u001b[1;33m=\u001b[0m \u001b[0mnltk\u001b[0m\u001b[1;33m.\u001b[0m\u001b[0mdata\u001b[0m\u001b[1;33m.\u001b[0m\u001b[0mfind\u001b[0m\u001b[1;33m(\u001b[0m\u001b[1;34mf\"{self.subdir}/{zip_name}\"\u001b[0m\u001b[1;33m)\u001b[0m\u001b[1;33m\u001b[0m\u001b[1;33m\u001b[0m\u001b[0m\n\u001b[0;32m     85\u001b[0m                 \u001b[1;32mexcept\u001b[0m \u001b[0mLookupError\u001b[0m\u001b[1;33m:\u001b[0m\u001b[1;33m\u001b[0m\u001b[1;33m\u001b[0m\u001b[0m\n\u001b[1;32m---> 86\u001b[1;33m                     \u001b[1;32mraise\u001b[0m \u001b[0me\u001b[0m\u001b[1;33m\u001b[0m\u001b[1;33m\u001b[0m\u001b[0m\n\u001b[0m\u001b[0;32m     87\u001b[0m \u001b[1;33m\u001b[0m\u001b[0m\n\u001b[0;32m     88\u001b[0m         \u001b[1;31m# Load the corpus.\u001b[0m\u001b[1;33m\u001b[0m\u001b[1;33m\u001b[0m\u001b[0m\n",
      "\u001b[1;32m~\\AppData\\Roaming\\Python\\Python39\\site-packages\\nltk\\corpus\\util.py\u001b[0m in \u001b[0;36m__load\u001b[1;34m(self)\u001b[0m\n\u001b[0;32m     79\u001b[0m         \u001b[1;32melse\u001b[0m\u001b[1;33m:\u001b[0m\u001b[1;33m\u001b[0m\u001b[1;33m\u001b[0m\u001b[0m\n\u001b[0;32m     80\u001b[0m             \u001b[1;32mtry\u001b[0m\u001b[1;33m:\u001b[0m\u001b[1;33m\u001b[0m\u001b[1;33m\u001b[0m\u001b[0m\n\u001b[1;32m---> 81\u001b[1;33m                 \u001b[0mroot\u001b[0m \u001b[1;33m=\u001b[0m \u001b[0mnltk\u001b[0m\u001b[1;33m.\u001b[0m\u001b[0mdata\u001b[0m\u001b[1;33m.\u001b[0m\u001b[0mfind\u001b[0m\u001b[1;33m(\u001b[0m\u001b[1;34mf\"{self.subdir}/{self.__name}\"\u001b[0m\u001b[1;33m)\u001b[0m\u001b[1;33m\u001b[0m\u001b[1;33m\u001b[0m\u001b[0m\n\u001b[0m\u001b[0;32m     82\u001b[0m             \u001b[1;32mexcept\u001b[0m \u001b[0mLookupError\u001b[0m \u001b[1;32mas\u001b[0m \u001b[0me\u001b[0m\u001b[1;33m:\u001b[0m\u001b[1;33m\u001b[0m\u001b[1;33m\u001b[0m\u001b[0m\n\u001b[0;32m     83\u001b[0m                 \u001b[1;32mtry\u001b[0m\u001b[1;33m:\u001b[0m\u001b[1;33m\u001b[0m\u001b[1;33m\u001b[0m\u001b[0m\n",
      "\u001b[1;32m~\\AppData\\Roaming\\Python\\Python39\\site-packages\\nltk\\data.py\u001b[0m in \u001b[0;36mfind\u001b[1;34m(resource_name, paths)\u001b[0m\n\u001b[0;32m    581\u001b[0m     \u001b[0msep\u001b[0m \u001b[1;33m=\u001b[0m \u001b[1;34m\"*\"\u001b[0m \u001b[1;33m*\u001b[0m \u001b[1;36m70\u001b[0m\u001b[1;33m\u001b[0m\u001b[1;33m\u001b[0m\u001b[0m\n\u001b[0;32m    582\u001b[0m     \u001b[0mresource_not_found\u001b[0m \u001b[1;33m=\u001b[0m \u001b[1;34mf\"\\n{sep}\\n{msg}\\n{sep}\\n\"\u001b[0m\u001b[1;33m\u001b[0m\u001b[1;33m\u001b[0m\u001b[0m\n\u001b[1;32m--> 583\u001b[1;33m     \u001b[1;32mraise\u001b[0m \u001b[0mLookupError\u001b[0m\u001b[1;33m(\u001b[0m\u001b[0mresource_not_found\u001b[0m\u001b[1;33m)\u001b[0m\u001b[1;33m\u001b[0m\u001b[1;33m\u001b[0m\u001b[0m\n\u001b[0m\u001b[0;32m    584\u001b[0m \u001b[1;33m\u001b[0m\u001b[0m\n\u001b[0;32m    585\u001b[0m \u001b[1;33m\u001b[0m\u001b[0m\n",
      "\u001b[1;31mLookupError\u001b[0m: \n**********************************************************************\n  Resource \u001b[93mstopwords\u001b[0m not found.\n  Please use the NLTK Downloader to obtain the resource:\n\n  \u001b[31m>>> import nltk\n  >>> nltk.download('stopwords')\n  \u001b[0m\n  For more information see: https://www.nltk.org/data.html\n\n  Attempted to load \u001b[93mcorpora/stopwords\u001b[0m\n\n  Searched in:\n    - 'D:\\\\Users\\\\Gestio/nltk_data'\n    - 'D:\\\\Users\\\\Gestio\\\\anaconda3\\\\nltk_data'\n    - 'D:\\\\Users\\\\Gestio\\\\anaconda3\\\\share\\\\nltk_data'\n    - 'D:\\\\Users\\\\Gestio\\\\anaconda3\\\\lib\\\\nltk_data'\n    - 'D:\\\\Users\\\\Gestio\\\\AppData\\\\Roaming\\\\nltk_data'\n    - 'C:\\\\nltk_data'\n    - 'D:\\\\nltk_data'\n    - 'E:\\\\nltk_data'\n**********************************************************************\n"
     ]
    }
   ],
   "source": [
    "#################################################################################################\n",
    "# CARGAMOS LA LIBRERIA CON LAS STOPWORDS (palabras que no aportan significado para el análisis) #\n",
    "#################################################################################################\n",
    "from nltk.corpus import stopwords\n",
    "stop_words=set(stopwords.words(\"english\"))\n",
    "print(stop_words)\n",
    "\n",
    "\n",
    "\n",
    "### ----> No he sido capaz de cargar la libreria, así que cargaré las StopWords manualmente. "
   ]
  },
  {
   "cell_type": "code",
   "execution_count": 22,
   "id": "6a1fc997",
   "metadata": {},
   "outputs": [],
   "source": [
    "english_stopwords = ['i', 'me', 'my', 'myself', 'we', 'our', 'ours', 'ourselves', 'you', \"you're\", \"you've\", \"you'll\", \"you'd\", 'your', 'yours', 'yourself', 'yourselves', 'he',\n",
    "                         'him', 'his', 'himself', 'she', \"she's\", 'her', 'hers', 'herself', 'it',\n",
    "                         \"it's\", 'its', 'itself', 'they', 'them', 'their', 'theirs', 'themselves', 'what',\n",
    "                         'which', 'who', 'whom', 'this', 'that', \"that'll\", 'these', 'those', 'am', 'is', 'are',\n",
    "                         'was', 'were', 'be', 'been', 'being', 'have', 'has', 'had', 'having', 'do', 'does', 'did',\n",
    "                         'doing', 'a', 'an', 'the', 'and', 'but', 'if', 'or', 'because', 'as', 'until', 'while', 'of',\n",
    "                         'at', 'by', 'for', 'with', 'about', 'against', 'between', 'into', 'through', 'during', 'before',\n",
    "                         'after', 'above', 'below', 'to', 'from', 'up', 'down', 'in', 'out', 'on', 'off', 'over', 'under',\n",
    "                         'again', 'further', 'then', 'once', 'here', 'there', 'when', 'where',\n",
    "                         'why', 'how', 'all', 'any', 'both', 'each', 'few', 'more', 'most', 'other',\n",
    "                         'some', 'such', 'no', 'nor', 'not', 'only', 'own', 'same', 'so', 'than', 'too',\n",
    "                         'very', 's', 't', 'can', 'will', 'just', 'don', \"don't\", 'should', \"should've\", 'now',\n",
    "                         'd', 'll', 'm', 'o', 're', 've', 'y', 'ain', 'aren', \"aren't\", 'couldn', \"couldn't\",\n",
    "                         'didn', \"didn't\", 'doesn', \"doesn't\", 'hadn', \"hadn't\", 'hasn', \"hasn't\", 'haven',\n",
    "                         \"haven't\", 'isn', \"isn't\", 'ma', 'mightn', \"mightn't\", 'mustn', \"mustn't\", 'needn',\n",
    "                         \"needn't\", 'shan', \"shan't\", 'shouldn', \"shouldn't\", 'wasn', \"wasn't\", 'weren', \"weren't\",\n",
    "                         'won', \"won't\", 'wouldn', \"wouldn't\"]"
   ]
  },
  {
   "cell_type": "code",
   "execution_count": 37,
   "id": "8e1692f2",
   "metadata": {},
   "outputs": [
    {
     "name": "stdout",
     "output_type": "stream",
     "text": [
      "Tokenized Sentence:\n",
      " ['One', 'of', 'the', 'things', 'I', 'appreciate', 'most', 'about', 'this', 'software', 'is', 'the', 'ease', 'of', 'use', 'and', 'the', 'ability', 'to', 'quickly', 'and', 'efficiently', 'engaged', 'users', '.', 'Text', 'Request', 'gives', 'us', 'another', 'quick', ',', 'easy', 'way', 'to', 'connect', 'to', 'our', 'clients', 'and', 'gives', 'them', 'the', 'ability', 'to', 'reach', 'out', 'to', 'us', 'any', 'time', 'of', 'day', '.', 'Their', 'customer', 'service', 'is', 'amazing.Very', 'impressed', 'with', 'the', 'quality', 'of', 'the', 'product', ',', 'particularly', 'for', 'the', 'price', '.'] \n",
      "\n",
      "Filterd Sentence:\n",
      " ['One', 'things', 'I', 'appreciate', 'software', 'ease', 'use', 'ability', 'quickly', 'efficiently', 'engaged', 'users', '.', 'Text', 'Request', 'gives', 'us', 'another', 'quick', ',', 'easy', 'way', 'connect', 'clients', 'gives', 'ability', 'reach', 'us', 'time', 'day', '.', 'Their', 'customer', 'service', 'amazing.Very', 'impressed', 'quality', 'product', ',', 'particularly', 'price', '.']\n"
     ]
    }
   ],
   "source": [
    "########################################\n",
    "# ELIMINAMOS LAS STOPWORDS DE MI TEXTO #\n",
    "########################################\n",
    "\n",
    "filtered_sent=[]\n",
    "for w in tokenized_word:\n",
    "    if w not in english_stopwords:\n",
    "        filtered_sent.append(w)\n",
    "print(\"Tokenized Sentence:\\n\",tokenized_word, \"\\n\")\n",
    "print(\"Filterd Sentence:\\n\",filtered_sent)"
   ]
  },
  {
   "cell_type": "code",
   "execution_count": 26,
   "id": "0e35032f",
   "metadata": {},
   "outputs": [
    {
     "name": "stdout",
     "output_type": "stream",
     "text": [
      "Filtered Sentence: ['One', 'things', 'I', 'appreciate', 'software', 'ease', 'use', 'ability', 'quickly', 'efficiently', 'engaged', 'users', '.', 'Text', 'Request', 'gives', 'us', 'another', 'quick', ',', 'easy', 'way', 'connect', 'clients', 'gives', 'ability', 'reach', 'us', 'time', 'day', '.', 'Their', 'customer', 'service', 'amazing.Very', 'impressed', 'quality', 'product', ',', 'particularly', 'price', '.']\n",
      "Stemmed Sentence: ['one', 'thing', 'i', 'appreci', 'softwar', 'eas', 'use', 'abil', 'quickli', 'effici', 'engag', 'user', '.', 'text', 'request', 'give', 'us', 'anoth', 'quick', ',', 'easi', 'way', 'connect', 'client', 'give', 'abil', 'reach', 'us', 'time', 'day', '.', 'their', 'custom', 'servic', 'amazing.veri', 'impress', 'qualiti', 'product', ',', 'particularli', 'price', '.']\n"
     ]
    }
   ],
   "source": [
    "##############################################\n",
    "# REDUCIR CADA PALABRA A SU RAIZ (STEAMING) #\n",
    "##############################################\n",
    "\n",
    "from nltk.stem import PorterStemmer\n",
    "from nltk.tokenize import sent_tokenize, word_tokenize\n",
    "\n",
    "ps = PorterStemmer()\n",
    "\n",
    "stemmed_words=[]\n",
    "for w in filtered_sent:\n",
    "    stemmed_words.append(ps.stem(w))\n",
    "\n",
    "print(\"Filtered Sentence:\",filtered_sent)\n",
    "print(\"Stemmed Sentence:\",stemmed_words)\n",
    "\n",
    "## - - - > Hay otro proceso parecido: LEMATIZACIÓN:  relaciona una palabra flexionada o derivada con su forma canónica o lema.P.ej.: niños, niña, niñitos, etc... losengloba en una única categoria (niño); ello es diferente a reducir las palabras a su raíz. \n"
   ]
  },
  {
   "cell_type": "code",
   "execution_count": 47,
   "id": "eb24ec74",
   "metadata": {},
   "outputs": [
    {
     "name": "stdout",
     "output_type": "stream",
     "text": [
      "Sentiment(polarity=0.461111111111111, subjectivity=0.6111111111111112)\n"
     ]
    }
   ],
   "source": [
    "###############################\n",
    "# FEM L'ANÀLISI DE SENTIMENT # \n",
    "###############################\n",
    "                                 # L'anàlisi de sentiment ens indica l'actitud o l'emoció de l'escriptor\n",
    "                                 # El faré amb l'eina TEXTBLOB, que dóna 2 parámetres com a resultat d'aquest analisi: \n",
    "                                    # POLARITAT: [-1,1] donde 1 significa declaración positiva y -1 significa declaración negativa\n",
    "                                    # SUBJECTIVITAT: [0,1] donde 0 significa texto objetivo y 1 significa texto subjetivo\n",
    "\n",
    "\n",
    "from textblob import TextBlob\n",
    "analisis = TextBlob(text)\n",
    "print(analisis.sentiment)"
   ]
  },
  {
   "cell_type": "code",
   "execution_count": 63,
   "id": "8ec9557a",
   "metadata": {},
   "outputs": [
    {
     "name": "stdout",
     "output_type": "stream",
     "text": [
      "Sentiment(polarity=0.21666666666666667, subjectivity=0.3875)\n"
     ]
    }
   ],
   "source": [
    "text2= 'La La Land” which was released in 2017 and was directed by Damien Chazelle, is one of the most acclaimed films by the audience of this genre. The plot caught me completely from the beginning. This musical and romantic film is about the story of a young girl who wants to be an actress, and a boy with great musical gifts and how they fall in love. However, it is not just a love story. The film has a deep background because it tries to reflect on the importance of chasing the dreams and how it affects in a relationship'\n",
    "analisis2 = TextBlob(text2)\n",
    "print(analisis2.sentiment)"
   ]
  },
  {
   "cell_type": "code",
   "execution_count": null,
   "id": "32ffea1d",
   "metadata": {},
   "outputs": [],
   "source": [
    "##  Crec que aquest últim anàlisi no és encertat: ens indica un valor propers a 0 quan s'hauria d'apropar a 1 (sentiment positiu)"
   ]
  }
 ],
 "metadata": {
  "kernelspec": {
   "display_name": "Python 3 (ipykernel)",
   "language": "python",
   "name": "python3"
  },
  "language_info": {
   "codemirror_mode": {
    "name": "ipython",
    "version": 3
   },
   "file_extension": ".py",
   "mimetype": "text/x-python",
   "name": "python",
   "nbconvert_exporter": "python",
   "pygments_lexer": "ipython3",
   "version": "3.9.12"
  }
 },
 "nbformat": 4,
 "nbformat_minor": 5
}
